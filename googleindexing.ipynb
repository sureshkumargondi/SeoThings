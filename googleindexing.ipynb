{
 "cells": [
  {
   "cell_type": "markdown",
   "metadata": {},
   "source": [
    "### Inexing API Quota Information\n",
    "\n",
    "DefaultPublishRequestsPerDayPerProject \n",
    "\n",
    "The default daily per project quota for how many publish requests that you can send to the publish endpoint. This includes both URL_UPDATED and URL_DELETED request types. The default value is set to 200.\n",
    "\n",
    "DefaultMetadataRequestsPerMinutePerProject\t\n",
    "\n",
    "The default per minute per project quota for how many Read Only requests that you can send to the getMetadata endpoint. The default value is set to 180.\n",
    "\n",
    " DefaultRequestsPerMinutePerProject \n",
    " \n",
    " The default per minute per project quota for all endpoints. The default value is set to 600."
   ]
  },
  {
   "cell_type": "code",
   "execution_count": null,
   "metadata": {},
   "outputs": [],
   "source": [
    "# pip install oauth2client httplib2\n",
    "# if you don't have this package. Run it for the first time."
   ]
  },
  {
   "cell_type": "code",
   "execution_count": null,
   "metadata": {},
   "outputs": [],
   "source": [
    "import advertools as adv\n",
    "import pandas as pd\n",
    "from oauth2client.service_account import ServiceAccountCredentials\n",
    "import httplib2\n",
    "import json"
   ]
  },
  {
   "cell_type": "code",
   "execution_count": null,
   "metadata": {},
   "outputs": [],
   "source": [
    "sitemap_urls = adv.sitemap_to_df('sitempa_URL_goes_here')"
   ]
  },
  {
   "cell_type": "code",
   "execution_count": null,
   "metadata": {},
   "outputs": [],
   "source": [
    "sitemap_urls['loc'].to_list()"
   ]
  },
  {
   "cell_type": "code",
   "execution_count": null,
   "metadata": {},
   "outputs": [],
   "source": [
    "url = sitemap_urls[\"loc\"].to_list()"
   ]
  },
  {
   "cell_type": "code",
   "execution_count": null,
   "metadata": {},
   "outputs": [],
   "source": [
    "JSON_KEY_FILE = \"credentials.json\""
   ]
  },
  {
   "cell_type": "code",
   "execution_count": null,
   "metadata": {},
   "outputs": [],
   "source": [
    "SCOPES = [ \"https://www.googleapis.com/auth/indexing\" ]\n",
    "ENDPOINT = \"https://indexing.googleapis.com/v3/urlNotifications:publish\""
   ]
  },
  {
   "cell_type": "markdown",
   "metadata": {},
   "source": [
    "## Authorize the credentials"
   ]
  },
  {
   "cell_type": "code",
   "execution_count": null,
   "metadata": {},
   "outputs": [],
   "source": [
    "credentials = ServiceAccountCredentials.from_json_keyfile_name(JSON_KEY_FILE, scopes=SCOPES)\n",
    "http = credentials.authorize(httplib2.Http())"
   ]
  },
  {
   "cell_type": "markdown",
   "metadata": {},
   "source": [
    "## There are 3 actions we can do\n",
    "\n",
    "1. For indexing new content use the content type - \n",
    "publish \n",
    "2. For updating existing content use the content type - \n",
    "URL_UPDATED\n",
    "3. For deleting existing content use the content type -\n",
    "URL_DELETED"
   ]
  },
  {
   "cell_type": "code",
   "execution_count": null,
   "metadata": {},
   "outputs": [],
   "source": [
    "print(url)\n",
    "content = {}\n",
    "content['url'] = url\n",
    "content['type'] = \"publish\"\n",
    "json_content = json.dumps(content)"
   ]
  },
  {
   "cell_type": "code",
   "execution_count": null,
   "metadata": {},
   "outputs": [],
   "source": [
    "response, content = http.request(ENDPOINT, method=\"POST\", body=json_content)\n",
    "result = json.loads(content.decode())"
   ]
  }
 ],
 "metadata": {
  "interpreter": {
   "hash": "b0fa6594d8f4cbf19f97940f81e996739fb7646882a419484c72d19e05852a7e"
  },
  "kernelspec": {
   "display_name": "Python 3.9.10 64-bit",
   "language": "python",
   "name": "python3"
  },
  "language_info": {
   "codemirror_mode": {
    "name": "ipython",
    "version": 3
   },
   "file_extension": ".py",
   "mimetype": "text/x-python",
   "name": "python",
   "nbconvert_exporter": "python",
   "pygments_lexer": "ipython3",
   "version": "3.9.10"
  },
  "orig_nbformat": 4
 },
 "nbformat": 4,
 "nbformat_minor": 2
}
