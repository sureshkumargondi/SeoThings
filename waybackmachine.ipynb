{
 "cells": [
  {
   "cell_type": "markdown",
   "id": "89af2b76",
   "metadata": {},
   "source": [
    "# Backup your whole website page content into wayback machine for Free Using their own Wayback Machine API. "
   ]
  },
  {
   "cell_type": "markdown",
   "id": "2342b6fd",
   "metadata": {},
   "source": [
    "## This simple workflow helps you automate the whole backup process by just entering the sitemap URL."
   ]
  },
  {
   "cell_type": "markdown",
   "id": "a27de0e3",
   "metadata": {},
   "source": [
    "### I humbly request you to consider donating to the organization of internet archive, for running this kind of infrastructure possible for decades. webiste URL is [https://archive.org/donate](https://archive.org/donate)"
   ]
  },
  {
   "cell_type": "code",
   "execution_count": null,
   "id": "9f965ea9",
   "metadata": {},
   "outputs": [],
   "source": [
    "import advertools as adv\n",
    "import pandas as pd\n",
    "import requests\n",
    "import time"
   ]
  },
  {
   "cell_type": "code",
   "execution_count": null,
   "id": "b115f91c",
   "metadata": {},
   "outputs": [],
   "source": [
    "sitemap_urls = adv.sitemap_to_df('Enter website sitemap url here')"
   ]
  },
  {
   "cell_type": "code",
   "execution_count": null,
   "id": "54a20d1f",
   "metadata": {},
   "outputs": [],
   "source": [
    "sitemap_urls['loc'].to_list()"
   ]
  },
  {
   "cell_type": "code",
   "execution_count": null,
   "id": "ff3a5fcf",
   "metadata": {},
   "outputs": [],
   "source": [
    "url = sitemap_urls[\"loc\"].to_list()"
   ]
  },
  {
   "cell_type": "code",
   "execution_count": null,
   "id": "385de446",
   "metadata": {},
   "outputs": [],
   "source": [
    "for i in url:\n",
    "          endpoint = f\"https://web.archive.org/save/{i}\"\n",
    "          response = requests.get(endpoint)\n",
    "          print(i)\n",
    "          print(endpoint)\n",
    "          print(response.status_code, response.content)\n",
    "          time.sleep(10)"
   ]
  }
 ],
 "metadata": {
  "kernelspec": {
   "display_name": "Python 3 (ipykernel)",
   "language": "python",
   "name": "python3"
  },
  "language_info": {
   "codemirror_mode": {
    "name": "ipython",
    "version": 3
   },
   "file_extension": ".py",
   "mimetype": "text/x-python",
   "name": "python",
   "nbconvert_exporter": "python",
   "pygments_lexer": "ipython3",
   "version": "3.9.10"
  }
 },
 "nbformat": 4,
 "nbformat_minor": 5
}
