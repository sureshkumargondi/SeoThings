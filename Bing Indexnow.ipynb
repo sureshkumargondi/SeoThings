{
 "cells": [
  {
   "cell_type": "code",
   "execution_count": null,
   "id": "9f965ea9",
   "metadata": {},
   "outputs": [],
   "source": [
    "import advertools as adv\n",
    "import pandas as pd\n",
    "import requests\n",
    "import json\n",
    "import time"
   ]
  },
  {
   "cell_type": "code",
   "execution_count": null,
   "id": "b115f91c",
   "metadata": {},
   "outputs": [],
   "source": [
    "sitemap_urls = adv.sitemap_to_df('Your-website-sitemap-URL-Goes-here')"
   ]
  },
  {
   "cell_type": "code",
   "execution_count": null,
   "id": "54a20d1f",
   "metadata": {},
   "outputs": [],
   "source": [
    "sitemap_urls['loc'].to_list()"
   ]
  },
  {
   "cell_type": "code",
   "execution_count": null,
   "id": "ff3a5fcf",
   "metadata": {},
   "outputs": [],
   "source": [
    "key = \"Indexnow-Key-Goes-here\"\n",
    "url = sitemap_urls[\"loc\"].to_list()"
   ]
  },
  {
   "cell_type": "code",
   "execution_count": null,
   "id": "385de446",
   "metadata": {},
   "outputs": [],
   "source": [
    "for i in url:\n",
    "          endpoint = f\"https://bing.com/indexnow?url={i}&key={key}\"\n",
    "          response = requests.get(endpoint)\n",
    "          print(i)\n",
    "          print(endpoint)\n",
    "          print(response.status_code, response.content)\n",
    "          time.sleep(5)"
   ]
  }
 ],
 "metadata": {
  "kernelspec": {
   "display_name": "Python 3 (ipykernel)",
   "language": "python",
   "name": "python3"
  },
  "language_info": {
   "codemirror_mode": {
    "name": "ipython",
    "version": 3
   },
   "file_extension": ".py",
   "mimetype": "text/x-python",
   "name": "python",
   "nbconvert_exporter": "python",
   "pygments_lexer": "ipython3",
   "version": "3.9.10"
  }
 },
 "nbformat": 4,
 "nbformat_minor": 5
}
